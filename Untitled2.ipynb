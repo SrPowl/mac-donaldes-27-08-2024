{
  "nbformat": 4,
  "nbformat_minor": 0,
  "metadata": {
    "colab": {
      "provenance": [],
      "authorship_tag": "ABX9TyMKCQWHq1C5qc4eC8f28oe2",
      "include_colab_link": true
    },
    "kernelspec": {
      "name": "python3",
      "display_name": "Python 3"
    },
    "language_info": {
      "name": "python"
    }
  },
  "cells": [
    {
      "cell_type": "markdown",
      "metadata": {
        "id": "view-in-github",
        "colab_type": "text"
      },
      "source": [
        "<a href=\"https://colab.research.google.com/github/SrPowl/mac-donaldes-27-08-2024/blob/main/Untitled2.ipynb\" target=\"_parent\"><img src=\"https://colab.research.google.com/assets/colab-badge.svg\" alt=\"Open In Colab\"/></a>"
      ]
    },
    {
      "cell_type": "code",
      "execution_count": 6,
      "metadata": {
        "colab": {
          "base_uri": "https://localhost:8080/"
        },
        "id": "gfA8kocrI148",
        "outputId": "67f7cd06-1ad4-4031-b02c-c652a1f59581"
      },
      "outputs": [
        {
          "output_type": "stream",
          "name": "stdout",
          "text": [
            "inserir numero inteiro: 74\n",
            "O número (numero) é par.\n"
          ]
        }
      ],
      "source": [
        "#solicita ao usuario que insira um numero\n",
        "numero = int(input(\"inserir numero inteiro: \"))\n",
        "\n",
        "# Verifica se o numero e par ou impar\n",
        "if numero % 2 == 0:\n",
        "  print(f\"O número (numero) é par.\")\n",
        "else:\n",
        "    print(f\"O número (numero) é impar.\")"
      ]
    }
  ]
}