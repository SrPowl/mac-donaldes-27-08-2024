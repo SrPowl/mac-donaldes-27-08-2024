{
  "nbformat": 4,
  "nbformat_minor": 0,
  "metadata": {
    "colab": {
      "provenance": [],
      "authorship_tag": "ABX9TyMl4OAekWukdocn3NmZinhf",
      "include_colab_link": true
    },
    "kernelspec": {
      "name": "python3",
      "display_name": "Python 3"
    },
    "language_info": {
      "name": "python"
    }
  },
  "cells": [
    {
      "cell_type": "markdown",
      "metadata": {
        "id": "view-in-github",
        "colab_type": "text"
      },
      "source": [
        "<a href=\"https://colab.research.google.com/github/SrPowl/mac-donaldes-27-08-2024/blob/main/Untitled2.ipynb\" target=\"_parent\"><img src=\"https://colab.research.google.com/assets/colab-badge.svg\" alt=\"Open In Colab\"/></a>"
      ]
    },
    {
      "cell_type": "code",
      "source": [
        "import math\n",
        "# Solicita ao usuário que insira o raio da esfera\n",
        "raio = float(input(\"Digite o raio da esfera em unidades de comprimento: \"))\n",
        "\n",
        "#Calcula o volume da esfera usando a formula V = (4/3) * π * r^3\n",
        "volume = (4/3) * math.pi * (raio**3)\n",
        "# Exibe o resultado\n",
        "print(f\"O volume da esfera com raio {raio} é {volume:.2f} unidades cubicas.\")"
      ],
      "metadata": {
        "colab": {
          "base_uri": "https://localhost:8080/"
        },
        "id": "xCayJdN7PqWK",
        "outputId": "57cc351a-4b2e-4f6c-adb8-697953ef4639"
      },
      "execution_count": null,
      "outputs": [
        {
          "output_type": "stream",
          "name": "stdout",
          "text": [
            "Digite o raio da esfera em unidades de comprimento: 25\n",
            "O volume da esfera com raio 25.0 é 65449.85 unidades cubicas.\n"
          ]
        }
      ]
    },
    {
      "cell_type": "code",
      "source": [
        "import math\n",
        "# Solicita ao usuário que insira o angulo em graus\n",
        "graus = float(input(\"Digite o em graus: \"))\n",
        "\n",
        "# converte o ângulo para radianos usando a formula r = g * (π / 180)\n",
        "radianos = graus * (math.pi / 180)\n",
        "# Exibe o resultado\n",
        "print(f\"O ângulo de {graus} graus é igual a {radianos:.4f} radianos.\")"
      ],
      "metadata": {
        "colab": {
          "base_uri": "https://localhost:8080/"
        },
        "id": "ZEm6qX6MQYDf",
        "outputId": "9a71dfe8-03e7-4657-aef3-954e9cb1aaa5"
      },
      "execution_count": null,
      "outputs": [
        {
          "output_type": "stream",
          "name": "stdout",
          "text": [
            "Digite o em graus: 25\n",
            "O ângulo de 25.0 graus é igual a 0.4363 radianos.\n"
          ]
        }
      ]
    },
    {
      "cell_type": "code",
      "source": [
        "import math\n",
        "# Solicita ao usuário que insira o angulo em graus\n",
        "graus = float(input(\"Digite o ângulo em radianos: \"))\n",
        "\n",
        "# converte o ângulo para radianos usando a formula g = r * (180 / π)\n",
        "radianos = radianos * (180 / math.pi)\n",
        "\n",
        "# Exibe o resultado\n",
        "print (f\"O ângulo de {radianos:.4f} radianos é igual a {graus:.2f} graus.\")"
      ],
      "metadata": {
        "colab": {
          "base_uri": "https://localhost:8080/"
        },
        "id": "ePjKBOM8RYB9",
        "outputId": "4a50e61f-4cf9-44c8-8d51-a497dc8a89f2"
      },
      "execution_count": null,
      "outputs": [
        {
          "output_type": "stream",
          "name": "stdout",
          "text": [
            "Digite o ângulo em radianos: 52\n",
            "O ângulo de 25.0000 radianos é igual a 52.00 graus.\n"
          ]
        }
      ]
    },
    {
      "cell_type": "markdown",
      "source": [
        "EXERCICIOS EXTRAS 17 09 2024"
      ],
      "metadata": {
        "id": "hbXxSG8pHx9Y"
      }
    },
    {
      "cell_type": "code",
      "source": [
        "valor = int(input(\"Digite um valor inteiro: \"))\n",
        "if valor % 3 == 0:\n",
        "    print(f\"O valor {valor} é múltiplo de 3.\")\n",
        "else:\n",
        "    print(f\"O valor {valor} não é múltiplo de 3.\")\n",
        ""
      ],
      "metadata": {
        "id": "x6EsbsFsHiet",
        "outputId": "4ea95772-3b99-446b-e4ad-de80f843e6cd",
        "colab": {
          "base_uri": "https://localhost:8080/"
        }
      },
      "execution_count": 2,
      "outputs": [
        {
          "output_type": "stream",
          "name": "stdout",
          "text": [
            "Digite um valor inteiro: 80\n",
            "O valor 80 não é múltiplo de 3.\n"
          ]
        }
      ]
    },
    {
      "cell_type": "code",
      "source": [
        "nota_a = float(input(\"Digite a nota a (peso 2): \"))\n",
        "nota_b = float(input(\"Digite a nota b (peso 3): \"))\n",
        "peso_a = 2\n",
        "peso_b = 3\n",
        "media_ponderada = (nota_a * peso_a + nota_b * peso_b) / (peso_a + peso_b)\n",
        "print(f\"A média ponderada é: {media_ponderada:.2f}\")\n",
        "if media_ponderada >= 5:\n",
        "    print(\"O aluno foi aprovado.\")\n",
        "else:\n",
        "    print(\"O aluno foi reprovado.\")\n",
        ""
      ],
      "metadata": {
        "id": "DcI-31tPH3Zv",
        "outputId": "941939b1-c4c2-4b40-d7d2-10ae768a49a4",
        "colab": {
          "base_uri": "https://localhost:8080/"
        }
      },
      "execution_count": 4,
      "outputs": [
        {
          "output_type": "stream",
          "name": "stdout",
          "text": [
            "Digite a nota a (peso 2): 6\n",
            "Digite a nota b (peso 3): 8\n",
            "A média ponderada é: 7.20\n",
            "O aluno foi aprovado.\n"
          ]
        }
      ]
    },
    {
      "cell_type": "code",
      "source": [
        "a = float(input(\"Digite o valor de a: \"))\n",
        "b = float(input(\"Digite o valor de b: \"))\n",
        "c = float(input(\"Digite o valor de c: \"))\n",
        "\n",
        "if a <= b and a <= c:\n",
        "    menor_valor = a\n",
        "elif b <= a and b <= c:\n",
        "    menor_valor = b\n",
        "else:\n",
        "    menor_valor = c\n",
        "\n",
        "print(f\"O menor valor é: {menor_valor}\")"
      ],
      "metadata": {
        "id": "yErs3h5nI9uJ",
        "outputId": "d0927a6a-6c68-43da-9745-b325ac054854",
        "colab": {
          "base_uri": "https://localhost:8080/"
        }
      },
      "execution_count": 11,
      "outputs": [
        {
          "output_type": "stream",
          "name": "stdout",
          "text": [
            "Digite o valor de a: 3\n",
            "Digite o valor de b: 1\n",
            "Digite o valor de c: 2\n",
            "O menor valor é: 1.0\n"
          ]
        }
      ]
    }
  ]
}