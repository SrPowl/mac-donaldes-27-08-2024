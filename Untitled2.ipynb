{
  "nbformat": 4,
  "nbformat_minor": 0,
  "metadata": {
    "colab": {
      "provenance": [],
      "authorship_tag": "ABX9TyMRwF30cedN/W948mw6MbQh",
      "include_colab_link": true
    },
    "kernelspec": {
      "name": "python3",
      "display_name": "Python 3"
    },
    "language_info": {
      "name": "python"
    }
  },
  "cells": [
    {
      "cell_type": "markdown",
      "metadata": {
        "id": "view-in-github",
        "colab_type": "text"
      },
      "source": [
        "<a href=\"https://colab.research.google.com/github/SrPowl/mac-donaldes-27-08-2024/blob/main/Untitled2.ipynb\" target=\"_parent\"><img src=\"https://colab.research.google.com/assets/colab-badge.svg\" alt=\"Open In Colab\"/></a>"
      ]
    },
    {
      "cell_type": "code",
      "source": [
        "import math\n",
        "# Solicita ao usuário que insira o raio da esfera\n",
        "raio = float(input(\"Digite o raio da esfera em unidades de comprimento: \"))\n",
        "\n",
        "#Calcula o volume da esfera usando a formula V = (4/3) * π * r^3\n",
        "volume = (4/3) * math.pi * (raio**3)\n",
        "# Exibe o resultado\n",
        "print(f\"O volume da esfera com raio {raio} é {volume:.2f} unidades cubicas.\")"
      ],
      "metadata": {
        "colab": {
          "base_uri": "https://localhost:8080/"
        },
        "id": "xCayJdN7PqWK",
        "outputId": "57cc351a-4b2e-4f6c-adb8-697953ef4639"
      },
      "execution_count": 10,
      "outputs": [
        {
          "output_type": "stream",
          "name": "stdout",
          "text": [
            "Digite o raio da esfera em unidades de comprimento: 25\n",
            "O volume da esfera com raio 25.0 é 65449.85 unidades cubicas.\n"
          ]
        }
      ]
    },
    {
      "cell_type": "code",
      "source": [
        "import math\n",
        "# Solicita ao usuário que insira o angulo em graus\n",
        "graus = float(input(\"Digite o em graus: \"))\n",
        "\n",
        "# converte o ângulo para radianos usando a formula r = g * (π / 180)\n",
        "radianos = graus * (math.pi / 180)\n",
        "# Exibe o resultado\n",
        "print(f\"O ângulo de {graus} graus é igual a {radianos:.4f} radianos.\")"
      ],
      "metadata": {
        "colab": {
          "base_uri": "https://localhost:8080/"
        },
        "id": "ZEm6qX6MQYDf",
        "outputId": "9a71dfe8-03e7-4657-aef3-954e9cb1aaa5"
      },
      "execution_count": 12,
      "outputs": [
        {
          "output_type": "stream",
          "name": "stdout",
          "text": [
            "Digite o em graus: 25\n",
            "O ângulo de 25.0 graus é igual a 0.4363 radianos.\n"
          ]
        }
      ]
    }
  ]
}